{
 "cells": [
  {
   "cell_type": "code",
   "execution_count": 32,
   "id": "73b59b3f",
   "metadata": {},
   "outputs": [],
   "source": [
    "import pandas as pd\n",
    "import json"
   ]
  },
  {
   "cell_type": "code",
   "execution_count": 33,
   "id": "5fd3257e",
   "metadata": {},
   "outputs": [
    {
     "name": "stdout",
     "output_type": "stream",
     "text": [
      "91\n"
     ]
    }
   ],
   "source": [
    "df = pd.read_csv('Malaria and GDP Data 2010-2017 with GDP per Capita.csv')\n",
    "df = df[['Country', 'Year', 'No. of cases_median', 'No. of deaths_median', 'GDP_per_capita', 'General government final consumption expenditure',  \n",
    "         'Exports of goods and services','Imports of goods and services']] \n",
    "\n",
    "\n",
    "df = df.rename(columns={'Country': 'country',\n",
    "                            'Year': 'year',\n",
    "                            'No. of cases_median': 'malaria_case_count',\n",
    "                            'No. of deaths_median': 'malaria_death_count',\n",
    "                            'General government final consumption expenditure':'gov_consumption_expend',\n",
    "                            'Exports of goods and services': 'exports',\n",
    "                            'Imports of goods and services': 'imports',\n",
    "                            'GDP_per_capita': 'gdp_per_capita'})\n",
    "\n",
    "numeric_columns = ['malaria_case_count', 'malaria_death_count', 'gdp_per_capita',\n",
    "                    'gov_consumption_expend', 'exports',  'imports']\n",
    "\n",
    "df[numeric_columns] = df[numeric_columns].apply(pd.to_numeric, errors='coerce')\n",
    "df\n",
    "unique_countries = df['country'].unique()\n",
    "\n",
    "print(len(unique_countries))\n",
    "\n",
    "df.to_json('scatter_all_countries.json', orient='records', lines=True, indent=1)\n",
    "\n",
    "\n",
    "\n",
    "\n"
   ]
  },
  {
   "cell_type": "code",
   "execution_count": 34,
   "id": "e2138dcc",
   "metadata": {},
   "outputs": [
    {
     "name": "stdout",
     "output_type": "stream",
     "text": [
      "84\n",
      "         country  year  malaria_case_count  malaria_death_count  \\\n",
      "0    Afghanistan  2010              353343                  200   \n",
      "1    Afghanistan  2011              454823                  242   \n",
      "2    Afghanistan  2012              278223                  117   \n",
      "3    Afghanistan  2013              213914                   99   \n",
      "4    Afghanistan  2014              284198                  136   \n",
      "..           ...   ...                 ...                  ...   \n",
      "722     Zimbabwe  2013              863883                 2211   \n",
      "723     Zimbabwe  2014             1093731                 2799   \n",
      "724     Zimbabwe  2015             1081888                 2769   \n",
      "725     Zimbabwe  2016              740192                 1894   \n",
      "726     Zimbabwe  2017             1239430                 3172   \n",
      "\n",
      "     gdp_per_capita  gov_consumption_expend       exports       imports  \n",
      "0        521.428191            1.335340e+11  1.247730e+11  2.370710e+11  \n",
      "1        593.203248            1.551530e+11  9.798504e+10  2.688300e+11  \n",
      "2        628.116539            1.877240e+11  1.046530e+11  3.567360e+11  \n",
      "3        622.100518            2.125900e+11  1.359750e+11  3.890980e+11  \n",
      "4        597.584579            2.373400e+11  1.586920e+11  3.636640e+11  \n",
      "..              ...                     ...           ...           ...  \n",
      "722     1408.367809            3.520135e+09  4.197687e+09  7.000436e+09  \n",
      "723     1407.034293            3.813379e+09  4.080441e+09  6.578075e+09  \n",
      "724     1410.329175            3.768541e+09  3.824969e+09  7.503865e+09  \n",
      "725     1421.787790            3.724230e+09  4.098132e+09  6.426700e+09  \n",
      "726     1494.170144            2.568053e+09  5.434790e+09  6.693807e+09  \n",
      "\n",
      "[671 rows x 8 columns]\n"
     ]
    }
   ],
   "source": [
    "#Only countries with >0 Malaria cases\n",
    "\n",
    "df_filtered = df[df['malaria_case_count'] > 0]\n",
    "df_filtered.to_json('scatter_mal_over_zero.json', orient='records', lines=True, indent=1)\n",
    "\n",
    "\n",
    "\n",
    "\n",
    "unique_countries = df_filtered['country'].unique()\n",
    "print(len(unique_countries))\n",
    "\n",
    "df_filtered_withzero = df[df['country'].isin(unique_countries)]\n",
    "\n",
    "print(df_filtered_withzero)\n",
    "#df_filtered_zero = df_filtered_withzero[df_filtered_withzero['malaria_case_count'] == 0]\n",
    "#print(len(df_filtered_zero))\n",
    "df_filtered_withzero.to_json('scatter_mal_with_zero.json', orient='records', lines=True, indent=1)\n"
   ]
  },
  {
   "cell_type": "code",
   "execution_count": 35,
   "id": "07840d5f",
   "metadata": {},
   "outputs": [],
   "source": [
    "df_mat = df_filtered.drop(columns=['year'])\n",
    "df_mat= df_mat.rename(columns={\n",
    "                            'malaria_case_count':'malaria_cases',\n",
    "                            'malaria_death_count':'malaria_death',\n",
    "                            'gov_consumption_expend':'gov_consumption',\n",
    "                            'gdp_per_capita': 'gdp_per_cap'})\n",
    "numeric_columns = df_mat.select_dtypes(include=['float64', 'int64']).columns\n",
    "correlation_matrix_nozero = df_mat[numeric_columns].corr()\n",
    "correlation_matrix_nozero\n",
    "\n",
    "\n",
    "\n",
    "correlation_matrix_nozero.to_csv('correlation_matrix_nozero.csv', index_label='', float_format='%.15f')\n",
    "json_data = []\n",
    "for index, row in correlation_matrix_nozero.iterrows():\n",
    "    for col in correlation_matrix_nozero.columns:\n",
    "        json_data.append({\n",
    "            'x': index,\n",
    "            'y': col,\n",
    "            'value': row[col]\n",
    "        })\n",
    "\n",
    "# Save JSON data to a file\n",
    "with open('correlation_matrix_nozero.json', 'w') as json_file:\n",
    "    json_file.write(json.dumps(json_data, indent=2))"
   ]
  },
  {
   "cell_type": "code",
   "execution_count": 36,
   "id": "5c4e496c",
   "metadata": {},
   "outputs": [],
   "source": [
    "df_mat = df_filtered_withzero.drop(columns=['year'])\n",
    "df_mat= df_mat.rename(columns={\n",
    "                            'malaria_case_count':'malaria_cases',\n",
    "                            'malaria_death_count':'malaria_death',\n",
    "                            'gov_consumption_expend':'gov_consumption',\n",
    "                            'gdp_per_capita': 'gdp_per_cap'})\n",
    "numeric_columns = df_mat.select_dtypes(include=['float64', 'int64']).columns\n",
    "correlation_matrix_nozero = df_mat[numeric_columns].corr()\n",
    "correlation_matrix_nozero\n",
    "\n",
    "\n",
    "\n",
    "correlation_matrix_nozero.to_csv('correlation_matrix_withzero.csv', index_label='', float_format='%.15f')\n",
    "json_data = []\n",
    "for index, row in correlation_matrix_nozero.iterrows():\n",
    "    for col in correlation_matrix_nozero.columns:\n",
    "        json_data.append({\n",
    "            'x': index,\n",
    "            'y': col,\n",
    "            'value': row[col]\n",
    "        })\n",
    "\n",
    "# Save JSON data to a file\n",
    "with open('correlation_matrix_withzero.json', 'w') as json_file:\n",
    "    json_file.write(json.dumps(json_data, indent=2))"
   ]
  },
  {
   "cell_type": "code",
   "execution_count": 37,
   "id": "215161eb",
   "metadata": {},
   "outputs": [],
   "source": [
    "df_matrix = df.drop(columns=['year'])\n",
    "df_matrix= df_matrix.rename(columns={\n",
    "                            'malaria_case_count':'malaria_cases',\n",
    "                            'malaria_death_count':'malaria_death',\n",
    "                            'gov_consumption_expend':'gov_consumption',\n",
    "                            'gdp_per_capita': 'gdp_per_cap'})\n",
    "numeric_columns = df_matrix.select_dtypes(include=['float64', 'int64']).columns\n",
    "correlation_matrix = df_matrix[numeric_columns].corr()\n",
    "correlation_matrix\n",
    "\n",
    "\n",
    "\n",
    "correlation_matrix.to_csv('correlation_matrix.csv', index_label='', float_format='%.15f')\n",
    "json_data = []\n",
    "for index, row in correlation_matrix.iterrows():\n",
    "    for col in correlation_matrix.columns:\n",
    "        json_data.append({\n",
    "            'x': index,\n",
    "            'y': col,\n",
    "            'value': row[col]\n",
    "        })\n",
    "\n",
    "# Save JSON data to a file\n",
    "with open('correlation_matrix.json', 'w') as json_file:\n",
    "    json_file.write(json.dumps(json_data, indent=2))\n"
   ]
  },
  {
   "cell_type": "code",
   "execution_count": 38,
   "id": "ea9a6377",
   "metadata": {},
   "outputs": [],
   "source": [
    "top10_countries = [       \"Nigeria\",\n",
    "                \"Democratic Republic of the Congo\",\n",
    "                \"India\",\n",
    "                \"Mozambique\",\n",
    "                \"Uganda\",\n",
    "                \"Burkina Faso\",\n",
    "                \"Ghana\",\n",
    "                \"Niger\",\n",
    "                \"Mali\",\n",
    "                \"Cameroon\"\n",
    "        ]\n",
    "df_top10 = df_matrix[df_matrix['country'].isin(top10_countries)]\n",
    "numeric_columns = df_top10.select_dtypes(include=['float64', 'int64']).columns\n",
    "correlation_matrix_top10 = df_top10[numeric_columns].corr()\n",
    "correlation_matrix_top10\n",
    "\n",
    "correlation_matrix_top10.to_csv('correlation_matrix_top10.csv', index_label='', float_format='%.15f')\n",
    "json_data = []\n",
    "for index, row in correlation_matrix_top10.iterrows():\n",
    "    for col in correlation_matrix_top10.columns:\n",
    "        json_data.append({\n",
    "            'x': index,\n",
    "            'y': col,\n",
    "            'value': row[col]\n",
    "        })\n",
    "\n",
    "# Save JSON data to a file\n",
    "with open('correlation_matrix_top10.json', 'w') as json_file:\n",
    "    json_file.write(json.dumps(json_data, indent=2))\n"
   ]
  },
  {
   "cell_type": "code",
   "execution_count": 39,
   "id": "d8c3cab5",
   "metadata": {},
   "outputs": [
    {
     "data": {
      "text/plain": [
       "\"top10 = ['Nigeria', 'Congo', 'India', 'Mozambique', 'Uganda', 'Burkina Faso', 'Ghana', 'Niger', 'Mali', 'Cameroon']\\nfor country in top10:\\n    df_country = df[df['country'] == country]\\n    json_filename = f'{country}_scatterData.json'\\n    df_country.to_json(json_filename, orient='records', lines=True, indent=2)\""
      ]
     },
     "execution_count": 39,
     "metadata": {},
     "output_type": "execute_result"
    }
   ],
   "source": [
    "'''top10 = ['Nigeria', 'Congo', 'India', 'Mozambique', 'Uganda', 'Burkina Faso', 'Ghana', 'Niger', 'Mali', 'Cameroon']\n",
    "for country in top10:\n",
    "    df_country = df[df['country'] == country]\n",
    "    json_filename = f'{country}_scatterData.json'\n",
    "    df_country.to_json(json_filename, orient='records', lines=True, indent=2)'''"
   ]
  },
  {
   "cell_type": "code",
   "execution_count": 40,
   "id": "a7c2f148",
   "metadata": {},
   "outputs": [
    {
     "data": {
      "text/plain": [
       "\"with open('scatter_all_countries.json', 'r') as json_file:\\n    json_lines = json_file.readlines()\\n\\n# Remove leading and trailing whitespaces from each line\\njson_lines = [line.strip() for line in json_lines]\\n\\n# Add commas between consecutive JSON objects\\nfor i in range(1, len(json_lines) - 2):\\n    # Check if the line contains both '}' and ',' to add a comma\\n    if '}' in json_lines[i] and ',' not in json_lines[i]:\\n        json_lines[i] += ','\\n\\n# Add square brackets to the beginning and end of the list\\njson_lines = ['['] + json_lines[:-1] + [json_lines[-1]+ ']']\\n\\n    \\n# Write the modified list back to the file\\nwith open('scatter_all_countries.json', 'w') as json_file:\\n    json_file.writelines('\\n'.join(json_lines))\""
      ]
     },
     "execution_count": 40,
     "metadata": {},
     "output_type": "execute_result"
    }
   ],
   "source": [
    "\"\"\"with open('scatter_all_countries.json', 'r') as json_file:\n",
    "    json_lines = json_file.readlines()\n",
    "\n",
    "# Remove leading and trailing whitespaces from each line\n",
    "json_lines = [line.strip() for line in json_lines]\n",
    "\n",
    "# Add commas between consecutive JSON objects\n",
    "for i in range(1, len(json_lines) - 2):\n",
    "    # Check if the line contains both '}' and ',' to add a comma\n",
    "    if '}' in json_lines[i] and ',' not in json_lines[i]:\n",
    "        json_lines[i] += ','\n",
    "\n",
    "# Add square brackets to the beginning and end of the list\n",
    "json_lines = ['['] + json_lines[:-1] + [json_lines[-1]+ ']']\n",
    "\n",
    "    \n",
    "# Write the modified list back to the file\n",
    "with open('scatter_all_countries.json', 'w') as json_file:\n",
    "    json_file.writelines('\\n'.join(json_lines))\"\"\""
   ]
  },
  {
   "cell_type": "code",
   "execution_count": 41,
   "id": "c76e9fb3",
   "metadata": {},
   "outputs": [],
   "source": [
    "def modify_json_file(file_path):\n",
    "    with open(file_path, 'r') as json_file:\n",
    "        json_lines = json_file.readlines()\n",
    "\n",
    "    # Remove leading and trailing whitespaces from each line\n",
    "    json_lines = [line.strip() for line in json_lines]\n",
    "\n",
    "    # Add commas between consecutive JSON objects\n",
    "    for i in range(1, len(json_lines) - 2):\n",
    "        # Check if the line contains both '}' and ',' to add a comma\n",
    "        if '}' in json_lines[i] and ',' not in json_lines[i]:\n",
    "            json_lines[i] += ','\n",
    "\n",
    "    # Add square brackets to the beginning and end of the list\n",
    "    json_lines = ['['] + json_lines[:-1] + [json_lines[-1] + ']']\n",
    "\n",
    "    # Write the modified list back to the file\n",
    "    with open(file_path, 'w') as json_file:\n",
    "        json_file.writelines('\\n'.join(json_lines))"
   ]
  },
  {
   "cell_type": "code",
   "execution_count": 42,
   "id": "dc93560b",
   "metadata": {},
   "outputs": [
    {
     "data": {
      "text/plain": [
       "\"top10 = ['Nigeria', 'Congo', 'India', 'Mozambique', 'Uganda', 'Burkina Faso', 'Ghana', 'Niger', 'Mali', 'Cameroon']\\nfor country in top10:\\n    json_filename = f'{country}_scatterData.json'\\n    modify_json_file(json_filename)\""
      ]
     },
     "execution_count": 42,
     "metadata": {},
     "output_type": "execute_result"
    }
   ],
   "source": [
    "modify_json_file('scatter_all_countries.json')\n",
    "modify_json_file('scatter_mal_over_zero.json')\n",
    "modify_json_file('scatter_mal_with_zero.json')\n",
    "\n",
    "'''top10 = ['Nigeria', 'Congo', 'India', 'Mozambique', 'Uganda', 'Burkina Faso', 'Ghana', 'Niger', 'Mali', 'Cameroon']\n",
    "for country in top10:\n",
    "    json_filename = f'{country}_scatterData.json'\n",
    "    modify_json_file(json_filename)'''"
   ]
  },
  {
   "cell_type": "code",
   "execution_count": null,
   "id": "04883a44",
   "metadata": {},
   "outputs": [],
   "source": []
  }
 ],
 "metadata": {
  "kernelspec": {
   "display_name": "Python 3 (ipykernel)",
   "language": "python",
   "name": "python3"
  },
  "language_info": {
   "codemirror_mode": {
    "name": "ipython",
    "version": 3
   },
   "file_extension": ".py",
   "mimetype": "text/x-python",
   "name": "python",
   "nbconvert_exporter": "python",
   "pygments_lexer": "ipython3",
   "version": "3.9.13"
  }
 },
 "nbformat": 4,
 "nbformat_minor": 5
}
